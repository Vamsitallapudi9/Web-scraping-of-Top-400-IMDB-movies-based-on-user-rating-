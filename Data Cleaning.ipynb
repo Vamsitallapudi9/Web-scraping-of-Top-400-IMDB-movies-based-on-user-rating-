{
 "cells": [
  {
   "cell_type": "markdown",
   "id": "f501b362",
   "metadata": {},
   "source": [
    "# Data Cleaning "
   ]
  },
  {
   "cell_type": "code",
   "execution_count": 1,
   "id": "772797e1",
   "metadata": {},
   "outputs": [],
   "source": [
    "import pandas as pd "
   ]
  },
  {
   "cell_type": "markdown",
   "id": "22eaa0ed",
   "metadata": {},
   "source": [
    "### Reading the Data"
   ]
  },
  {
   "cell_type": "code",
   "execution_count": 43,
   "id": "139f857f",
   "metadata": {},
   "outputs": [],
   "source": [
    "df=pd.read_csv('Imdb 400.csv',index_col=[0],delimiter=None,decimal=',')"
   ]
  },
  {
   "cell_type": "markdown",
   "id": "d093804a",
   "metadata": {},
   "source": [
    "### data types of each column atbthe initial stage"
   ]
  },
  {
   "cell_type": "code",
   "execution_count": 44,
   "id": "74395f99",
   "metadata": {},
   "outputs": [
    {
     "data": {
      "text/plain": [
       "SLNO                             int64\n",
       "Movie Name                      object\n",
       "Year of release                 object\n",
       "Run time                         int64\n",
       "Movie Rating                    object\n",
       "Metascore                        int64\n",
       "Votes                            int64\n",
       "Gross collection in millions    object\n",
       "Description                     object\n",
       "Director                        object\n",
       "Star                            object\n",
       "dtype: object"
      ]
     },
     "execution_count": 44,
     "metadata": {},
     "output_type": "execute_result"
    }
   ],
   "source": [
    "df.dtypes"
   ]
  },
  {
   "cell_type": "markdown",
   "id": "fbfd1377",
   "metadata": {},
   "source": [
    "### Renaming"
   ]
  },
  {
   "cell_type": "code",
   "execution_count": 45,
   "id": "d6628e74",
   "metadata": {},
   "outputs": [],
   "source": [
    "df.rename(columns={'SLNO':'SerialNo'},inplace=True)"
   ]
  },
  {
   "cell_type": "markdown",
   "id": "8b650e6d",
   "metadata": {},
   "source": [
    "#### Replacing the miscalenous data in the year of release column in to proper data"
   ]
  },
  {
   "cell_type": "code",
   "execution_count": 47,
   "id": "16fedea5",
   "metadata": {},
   "outputs": [],
   "source": [
    "df=df.replace(['II 2018','I 2019','I 2017','I 2015','I 2013','III 2016','I 2004','I 2014','II 2016','I 2011','I 2020'],[2018,2019,2017,2015,2013,2016,2004,2014,2016,2011,2020])"
   ]
  },
  {
   "cell_type": "markdown",
   "id": "51ddaa18",
   "metadata": {},
   "source": [
    "#### changing the datatype of the column after the cleaning "
   ]
  },
  {
   "cell_type": "code",
   "execution_count": 56,
   "id": "3184754a",
   "metadata": {},
   "outputs": [],
   "source": [
    "df['Year of release']=df['Year of release'].astype('int64')"
   ]
  },
  {
   "cell_type": "markdown",
   "id": "1e5d1e12",
   "metadata": {},
   "source": [
    "#### Column datatype conversion"
   ]
  },
  {
   "cell_type": "code",
   "execution_count": 57,
   "id": "b6e8c5cc",
   "metadata": {},
   "outputs": [],
   "source": [
    "df['Movie Rating']=df['Movie Rating'].astype('float64')"
   ]
  },
  {
   "cell_type": "markdown",
   "id": "e6de4469",
   "metadata": {},
   "source": [
    "#### cleaning the gross column and chaning the dtype afterwards"
   ]
  },
  {
   "cell_type": "code",
   "execution_count": 58,
   "id": "84333c65",
   "metadata": {},
   "outputs": [],
   "source": [
    "df=df.replace(['#239','#45','#21','#46','#108','#70','#99','#88','#59','#60','#110','#134','#228','#131','#154','#246','#144','#206','#191','#229','#210','#196','#233','#202','#221','#190','#241','#240','#183','#198','#238'],[239,45,21,46,108,70,99,88,59,60,110,134,238,131,154,246,144,206,191,229,210,196,233,202,221,190,241,240,183,198,238])"
   ]
  },
  {
   "cell_type": "code",
   "execution_count": 59,
   "id": "658b4110",
   "metadata": {
    "scrolled": true
   },
   "outputs": [],
   "source": [
    "df['Gross collection in millions']=df['Gross collection in millions'].astype('float64')"
   ]
  },
  {
   "cell_type": "code",
   "execution_count": 60,
   "id": "c8ae68ff",
   "metadata": {},
   "outputs": [
    {
     "name": "stdout",
     "output_type": "stream",
     "text": [
      "<class 'pandas.core.frame.DataFrame'>\n",
      "Int64Index: 400 entries, 0 to 399\n",
      "Data columns (total 11 columns):\n",
      " #   Column                        Non-Null Count  Dtype  \n",
      "---  ------                        --------------  -----  \n",
      " 0   SerialNo                      400 non-null    int64  \n",
      " 1   Movie Name                    400 non-null    object \n",
      " 2   Year of release               400 non-null    int64  \n",
      " 3   Run time                      400 non-null    int64  \n",
      " 4   Movie Rating                  400 non-null    float64\n",
      " 5   Metascore                     400 non-null    int64  \n",
      " 6   Votes                         400 non-null    int64  \n",
      " 7   Gross collection in millions  400 non-null    float64\n",
      " 8   Description                   400 non-null    object \n",
      " 9   Director                      400 non-null    object \n",
      " 10  Star                          400 non-null    object \n",
      "dtypes: float64(2), int64(5), object(4)\n",
      "memory usage: 37.5+ KB\n"
     ]
    }
   ],
   "source": [
    "df.info()"
   ]
  },
  {
   "cell_type": "code",
   "execution_count": 66,
   "id": "15912bd4",
   "metadata": {},
   "outputs": [],
   "source": [
    "gf=df.convert_dtypes(infer_objects=True, convert_integer=True)"
   ]
  },
  {
   "cell_type": "markdown",
   "id": "1fbe6e83",
   "metadata": {},
   "source": [
    "#### Datatypes of the each column at the end of the process "
   ]
  },
  {
   "cell_type": "code",
   "execution_count": 69,
   "id": "02c4a213",
   "metadata": {},
   "outputs": [
    {
     "name": "stdout",
     "output_type": "stream",
     "text": [
      "<class 'pandas.core.frame.DataFrame'>\n",
      "Int64Index: 400 entries, 0 to 399\n",
      "Data columns (total 11 columns):\n",
      " #   Column                        Non-Null Count  Dtype  \n",
      "---  ------                        --------------  -----  \n",
      " 0   SerialNo                      400 non-null    int64  \n",
      " 1   Movie Name                    400 non-null    object \n",
      " 2   Year of release               400 non-null    int64  \n",
      " 3   Run time                      400 non-null    int64  \n",
      " 4   Movie Rating                  400 non-null    float64\n",
      " 5   Metascore                     400 non-null    float64\n",
      " 6   Votes                         400 non-null    int64  \n",
      " 7   Gross collection in millions  400 non-null    float64\n",
      " 8   Description                   400 non-null    object \n",
      " 9   Director                      400 non-null    object \n",
      " 10  Star                          400 non-null    object \n",
      "dtypes: float64(3), int64(4), object(4)\n",
      "memory usage: 37.5+ KB\n"
     ]
    }
   ],
   "source": [
    "df.info()"
   ]
  },
  {
   "cell_type": "markdown",
   "id": "fcef830c",
   "metadata": {},
   "source": [
    "#### replacing the outlier values witht the respective mean of the column i.e, Gross and Metascore"
   ]
  },
  {
   "cell_type": "code",
   "execution_count": 70,
   "id": "debf991e",
   "metadata": {},
   "outputs": [],
   "source": [
    "collection=df['Gross collection in millions']\n",
    "collection.replace(to_replace = 0, value = collection.mean(), inplace=True)"
   ]
  },
  {
   "cell_type": "code",
   "execution_count": 71,
   "id": "1167f512",
   "metadata": {},
   "outputs": [],
   "source": [
    "score=df[\"Metascore\"]\n",
    "score.replace(to_replace = 0, value = score.mean(), inplace=True)"
   ]
  },
  {
   "cell_type": "code",
   "execution_count": 76,
   "id": "b18e6667",
   "metadata": {},
   "outputs": [
    {
     "data": {
      "text/html": [
       "<div>\n",
       "<style scoped>\n",
       "    .dataframe tbody tr th:only-of-type {\n",
       "        vertical-align: middle;\n",
       "    }\n",
       "\n",
       "    .dataframe tbody tr th {\n",
       "        vertical-align: top;\n",
       "    }\n",
       "\n",
       "    .dataframe thead th {\n",
       "        text-align: right;\n",
       "    }\n",
       "</style>\n",
       "<table border=\"1\" class=\"dataframe\">\n",
       "  <thead>\n",
       "    <tr style=\"text-align: right;\">\n",
       "      <th></th>\n",
       "      <th>SerialNo</th>\n",
       "      <th>Movie Name</th>\n",
       "      <th>Year of release</th>\n",
       "      <th>Run time</th>\n",
       "      <th>Movie Rating</th>\n",
       "      <th>Metascore</th>\n",
       "      <th>Votes</th>\n",
       "      <th>Gross collection in millions</th>\n",
       "      <th>Description</th>\n",
       "      <th>Director</th>\n",
       "      <th>Star</th>\n",
       "    </tr>\n",
       "  </thead>\n",
       "  <tbody>\n",
       "    <tr>\n",
       "      <th>0</th>\n",
       "      <td>1</td>\n",
       "      <td>The Shawshank Redemption</td>\n",
       "      <td>1994</td>\n",
       "      <td>142</td>\n",
       "      <td>9.3</td>\n",
       "      <td>81.0</td>\n",
       "      <td>2646498</td>\n",
       "      <td>28.34</td>\n",
       "      <td>Two imprisoned men bond over a number of years...</td>\n",
       "      <td>Frank Darabont</td>\n",
       "      <td>['Tim Robbins, Morgan Freeman, Bob Gunton, Wil...</td>\n",
       "    </tr>\n",
       "    <tr>\n",
       "      <th>1</th>\n",
       "      <td>2</td>\n",
       "      <td>The Godfather</td>\n",
       "      <td>1972</td>\n",
       "      <td>175</td>\n",
       "      <td>9.2</td>\n",
       "      <td>100.0</td>\n",
       "      <td>1834453</td>\n",
       "      <td>134.97</td>\n",
       "      <td>The aging patriarch of an organized crime dyna...</td>\n",
       "      <td>Francis Ford Coppola</td>\n",
       "      <td>['Marlon Brando, Al Pacino, James Caan, Diane ...</td>\n",
       "    </tr>\n",
       "    <tr>\n",
       "      <th>2</th>\n",
       "      <td>3</td>\n",
       "      <td>The Dark Knight</td>\n",
       "      <td>2008</td>\n",
       "      <td>152</td>\n",
       "      <td>9.0</td>\n",
       "      <td>84.0</td>\n",
       "      <td>2618406</td>\n",
       "      <td>534.86</td>\n",
       "      <td>When the menace known as the Joker wreaks havo...</td>\n",
       "      <td>Christopher Nolan</td>\n",
       "      <td>['Christian Bale, Heath Ledger, Aaron Eckhart,...</td>\n",
       "    </tr>\n",
       "    <tr>\n",
       "      <th>3</th>\n",
       "      <td>4</td>\n",
       "      <td>The Lord of the Rings: The Return of the King</td>\n",
       "      <td>2003</td>\n",
       "      <td>201</td>\n",
       "      <td>9.0</td>\n",
       "      <td>94.0</td>\n",
       "      <td>1822452</td>\n",
       "      <td>377.85</td>\n",
       "      <td>Gandalf and Aragorn lead the World of Men agai...</td>\n",
       "      <td>Peter Jackson</td>\n",
       "      <td>['Elijah Wood, Viggo Mortensen, Ian McKellen, ...</td>\n",
       "    </tr>\n",
       "    <tr>\n",
       "      <th>4</th>\n",
       "      <td>5</td>\n",
       "      <td>Schindler's List</td>\n",
       "      <td>1993</td>\n",
       "      <td>195</td>\n",
       "      <td>9.0</td>\n",
       "      <td>94.0</td>\n",
       "      <td>1341386</td>\n",
       "      <td>96.90</td>\n",
       "      <td>In German-occupied Poland during World War II,...</td>\n",
       "      <td>Steven Spielberg</td>\n",
       "      <td>['Liam Neeson, Ralph Fiennes, Ben Kingsley, Ca...</td>\n",
       "    </tr>\n",
       "    <tr>\n",
       "      <th>...</th>\n",
       "      <td>...</td>\n",
       "      <td>...</td>\n",
       "      <td>...</td>\n",
       "      <td>...</td>\n",
       "      <td>...</td>\n",
       "      <td>...</td>\n",
       "      <td>...</td>\n",
       "      <td>...</td>\n",
       "      <td>...</td>\n",
       "      <td>...</td>\n",
       "      <td>...</td>\n",
       "    </tr>\n",
       "    <tr>\n",
       "      <th>395</th>\n",
       "      <td>396</td>\n",
       "      <td>Pâfekuto burû</td>\n",
       "      <td>1997</td>\n",
       "      <td>81</td>\n",
       "      <td>8.0</td>\n",
       "      <td>67.0</td>\n",
       "      <td>75967</td>\n",
       "      <td>0.78</td>\n",
       "      <td>A pop singer gives up her career to become an ...</td>\n",
       "      <td>Satoshi Kon</td>\n",
       "      <td>['Junko Iwao, Rica Matsumoto, Shinpachi Tsuji,...</td>\n",
       "    </tr>\n",
       "    <tr>\n",
       "      <th>396</th>\n",
       "      <td>397</td>\n",
       "      <td>Central do Brasil</td>\n",
       "      <td>1998</td>\n",
       "      <td>110</td>\n",
       "      <td>8.0</td>\n",
       "      <td>80.0</td>\n",
       "      <td>39781</td>\n",
       "      <td>5.60</td>\n",
       "      <td>The emotive journey of a former schoolteacher ...</td>\n",
       "      <td>Walter Salles</td>\n",
       "      <td>['Fernanda Montenegro, Vinícius de Oliveira, M...</td>\n",
       "    </tr>\n",
       "    <tr>\n",
       "      <th>397</th>\n",
       "      <td>398</td>\n",
       "      <td>La leggenda del pianista sull'oceano</td>\n",
       "      <td>1998</td>\n",
       "      <td>169</td>\n",
       "      <td>8.0</td>\n",
       "      <td>58.0</td>\n",
       "      <td>64506</td>\n",
       "      <td>0.26</td>\n",
       "      <td>A baby boy, discovered in 1900 on an ocean lin...</td>\n",
       "      <td>Giuseppe Tornatore</td>\n",
       "      <td>['Tim Roth, Pruitt Taylor Vince, Mélanie Thier...</td>\n",
       "    </tr>\n",
       "    <tr>\n",
       "      <th>398</th>\n",
       "      <td>399</td>\n",
       "      <td>Crna macka, beli macor</td>\n",
       "      <td>1998</td>\n",
       "      <td>127</td>\n",
       "      <td>8.0</td>\n",
       "      <td>73.0</td>\n",
       "      <td>53984</td>\n",
       "      <td>0.35</td>\n",
       "      <td>Matko and his son Zare live on the banks of th...</td>\n",
       "      <td>Emir Kusturica</td>\n",
       "      <td>[\"Bajram Severdzan, Srdjan 'Zika' Todorovic, B...</td>\n",
       "    </tr>\n",
       "    <tr>\n",
       "      <th>399</th>\n",
       "      <td>400</td>\n",
       "      <td>Sling Blade</td>\n",
       "      <td>1996</td>\n",
       "      <td>135</td>\n",
       "      <td>8.0</td>\n",
       "      <td>84.0</td>\n",
       "      <td>94181</td>\n",
       "      <td>24.48</td>\n",
       "      <td>Karl Childers, a simple man hospitalized since...</td>\n",
       "      <td>Billy Bob Thornton</td>\n",
       "      <td>['Billy Bob Thornton, Dwight Yoakam, J.T. Wals...</td>\n",
       "    </tr>\n",
       "  </tbody>\n",
       "</table>\n",
       "<p>400 rows × 11 columns</p>\n",
       "</div>"
      ],
      "text/plain": [
       "     SerialNo                                     Movie Name  Year of release  \\\n",
       "0           1                       The Shawshank Redemption             1994   \n",
       "1           2                                  The Godfather             1972   \n",
       "2           3                                The Dark Knight             2008   \n",
       "3           4  The Lord of the Rings: The Return of the King             2003   \n",
       "4           5                               Schindler's List             1993   \n",
       "..        ...                                            ...              ...   \n",
       "395       396                                  Pâfekuto burû             1997   \n",
       "396       397                              Central do Brasil             1998   \n",
       "397       398           La leggenda del pianista sull'oceano             1998   \n",
       "398       399                         Crna macka, beli macor             1998   \n",
       "399       400                                    Sling Blade             1996   \n",
       "\n",
       "     Run time  Movie Rating  Metascore    Votes  Gross collection in millions  \\\n",
       "0         142           9.3       81.0  2646498                         28.34   \n",
       "1         175           9.2      100.0  1834453                        134.97   \n",
       "2         152           9.0       84.0  2618406                        534.86   \n",
       "3         201           9.0       94.0  1822452                        377.85   \n",
       "4         195           9.0       94.0  1341386                         96.90   \n",
       "..        ...           ...        ...      ...                           ...   \n",
       "395        81           8.0       67.0    75967                          0.78   \n",
       "396       110           8.0       80.0    39781                          5.60   \n",
       "397       169           8.0       58.0    64506                          0.26   \n",
       "398       127           8.0       73.0    53984                          0.35   \n",
       "399       135           8.0       84.0    94181                         24.48   \n",
       "\n",
       "                                           Description              Director  \\\n",
       "0    Two imprisoned men bond over a number of years...        Frank Darabont   \n",
       "1    The aging patriarch of an organized crime dyna...  Francis Ford Coppola   \n",
       "2    When the menace known as the Joker wreaks havo...     Christopher Nolan   \n",
       "3    Gandalf and Aragorn lead the World of Men agai...         Peter Jackson   \n",
       "4    In German-occupied Poland during World War II,...      Steven Spielberg   \n",
       "..                                                 ...                   ...   \n",
       "395  A pop singer gives up her career to become an ...           Satoshi Kon   \n",
       "396  The emotive journey of a former schoolteacher ...         Walter Salles   \n",
       "397  A baby boy, discovered in 1900 on an ocean lin...    Giuseppe Tornatore   \n",
       "398  Matko and his son Zare live on the banks of th...        Emir Kusturica   \n",
       "399  Karl Childers, a simple man hospitalized since...    Billy Bob Thornton   \n",
       "\n",
       "                                                  Star  \n",
       "0    ['Tim Robbins, Morgan Freeman, Bob Gunton, Wil...  \n",
       "1    ['Marlon Brando, Al Pacino, James Caan, Diane ...  \n",
       "2    ['Christian Bale, Heath Ledger, Aaron Eckhart,...  \n",
       "3    ['Elijah Wood, Viggo Mortensen, Ian McKellen, ...  \n",
       "4    ['Liam Neeson, Ralph Fiennes, Ben Kingsley, Ca...  \n",
       "..                                                 ...  \n",
       "395  ['Junko Iwao, Rica Matsumoto, Shinpachi Tsuji,...  \n",
       "396  ['Fernanda Montenegro, Vinícius de Oliveira, M...  \n",
       "397  ['Tim Roth, Pruitt Taylor Vince, Mélanie Thier...  \n",
       "398  [\"Bajram Severdzan, Srdjan 'Zika' Todorovic, B...  \n",
       "399  ['Billy Bob Thornton, Dwight Yoakam, J.T. Wals...  \n",
       "\n",
       "[400 rows x 11 columns]"
      ]
     },
     "execution_count": 76,
     "metadata": {},
     "output_type": "execute_result"
    }
   ],
   "source": [
    "df"
   ]
  },
  {
   "cell_type": "code",
   "execution_count": 77,
   "id": "a7a5e795",
   "metadata": {},
   "outputs": [],
   "source": [
    "df.to_excel('Imdb 400 Clean.xlsx')"
   ]
  },
  {
   "cell_type": "code",
   "execution_count": 78,
   "id": "e6e8fc18",
   "metadata": {},
   "outputs": [],
   "source": [
    "df.to_csv('Imdb 400 Clean.csv')"
   ]
  },
  {
   "cell_type": "code",
   "execution_count": 79,
   "id": "bced55b7",
   "metadata": {},
   "outputs": [
    {
     "name": "stdout",
     "output_type": "stream",
     "text": [
      "<class 'pandas.core.frame.DataFrame'>\n",
      "Int64Index: 400 entries, 0 to 399\n",
      "Data columns (total 11 columns):\n",
      " #   Column                        Non-Null Count  Dtype  \n",
      "---  ------                        --------------  -----  \n",
      " 0   SerialNo                      400 non-null    int64  \n",
      " 1   Movie Name                    400 non-null    object \n",
      " 2   Year of release               400 non-null    int64  \n",
      " 3   Run time                      400 non-null    int64  \n",
      " 4   Movie Rating                  400 non-null    float64\n",
      " 5   Metascore                     400 non-null    float64\n",
      " 6   Votes                         400 non-null    int64  \n",
      " 7   Gross collection in millions  400 non-null    float64\n",
      " 8   Description                   400 non-null    object \n",
      " 9   Director                      400 non-null    object \n",
      " 10  Star                          400 non-null    object \n",
      "dtypes: float64(3), int64(4), object(4)\n",
      "memory usage: 37.5+ KB\n"
     ]
    }
   ],
   "source": [
    "df.info()"
   ]
  },
  {
   "cell_type": "markdown",
   "id": "e43b9783",
   "metadata": {},
   "source": [
    "### > Thank you "
   ]
  },
  {
   "cell_type": "code",
   "execution_count": null,
   "id": "28783547",
   "metadata": {},
   "outputs": [],
   "source": []
  },
  {
   "cell_type": "code",
   "execution_count": null,
   "id": "478bc0c8",
   "metadata": {},
   "outputs": [],
   "source": []
  },
  {
   "cell_type": "code",
   "execution_count": null,
   "id": "c357643e",
   "metadata": {},
   "outputs": [],
   "source": []
  },
  {
   "cell_type": "code",
   "execution_count": null,
   "id": "7c5f17b4",
   "metadata": {},
   "outputs": [],
   "source": []
  },
  {
   "cell_type": "code",
   "execution_count": null,
   "id": "7ba6b97a",
   "metadata": {},
   "outputs": [],
   "source": []
  },
  {
   "cell_type": "code",
   "execution_count": null,
   "id": "e2addf6f",
   "metadata": {},
   "outputs": [],
   "source": []
  },
  {
   "cell_type": "code",
   "execution_count": null,
   "id": "84d39626",
   "metadata": {},
   "outputs": [],
   "source": []
  },
  {
   "cell_type": "code",
   "execution_count": null,
   "id": "10808cc8",
   "metadata": {},
   "outputs": [],
   "source": []
  },
  {
   "cell_type": "code",
   "execution_count": null,
   "id": "4f0c1dfb",
   "metadata": {},
   "outputs": [],
   "source": []
  },
  {
   "cell_type": "code",
   "execution_count": null,
   "id": "e9978ebe",
   "metadata": {},
   "outputs": [],
   "source": []
  },
  {
   "cell_type": "code",
   "execution_count": null,
   "id": "73b2a175",
   "metadata": {},
   "outputs": [],
   "source": []
  },
  {
   "cell_type": "code",
   "execution_count": null,
   "id": "04084079",
   "metadata": {},
   "outputs": [],
   "source": []
  },
  {
   "cell_type": "code",
   "execution_count": null,
   "id": "1f4dd961",
   "metadata": {},
   "outputs": [],
   "source": [
    "display(df['Gross collection in millions'].to_string(),delimiter=' ')"
   ]
  },
  {
   "cell_type": "code",
   "execution_count": null,
   "id": "a325b598",
   "metadata": {},
   "outputs": [],
   "source": [
    "df.info()\n"
   ]
  },
  {
   "cell_type": "code",
   "execution_count": null,
   "id": "66677d25",
   "metadata": {},
   "outputs": [],
   "source": [
    "df.describe()"
   ]
  },
  {
   "cell_type": "code",
   "execution_count": null,
   "id": "5652965c",
   "metadata": {},
   "outputs": [],
   "source": [
    "df.apply(pd.Series.value_counts)"
   ]
  },
  {
   "cell_type": "code",
   "execution_count": null,
   "id": "a5a06572",
   "metadata": {},
   "outputs": [],
   "source": [
    "df.head(2)"
   ]
  },
  {
   "cell_type": "markdown",
   "id": "60c523f3",
   "metadata": {},
   "source": [
    "## Viewing"
   ]
  },
  {
   "cell_type": "code",
   "execution_count": null,
   "id": "3b7dd5c7",
   "metadata": {},
   "outputs": [],
   "source": [
    "df.columns"
   ]
  },
  {
   "cell_type": "code",
   "execution_count": null,
   "id": "b255568a",
   "metadata": {},
   "outputs": [],
   "source": [
    "df[['SLNO', 'Movie Name', 'Year of release', 'Description','Director', 'Star']]"
   ]
  },
  {
   "cell_type": "code",
   "execution_count": null,
   "id": "74729201",
   "metadata": {},
   "outputs": [],
   "source": [
    "df.iloc[465] #by posoition"
   ]
  },
  {
   "cell_type": "code",
   "execution_count": null,
   "id": "fdf95734",
   "metadata": {},
   "outputs": [],
   "source": [
    "df.loc[3] #by index\n"
   ]
  },
  {
   "cell_type": "code",
   "execution_count": null,
   "id": "a9300929",
   "metadata": {},
   "outputs": [],
   "source": [
    "df.columns"
   ]
  },
  {
   "cell_type": "markdown",
   "id": "7dba4ede",
   "metadata": {},
   "source": [
    "# Data Cleaning"
   ]
  },
  {
   "cell_type": "code",
   "execution_count": null,
   "id": "2119a447",
   "metadata": {},
   "outputs": [],
   "source": [
    "df.columns"
   ]
  },
  {
   "cell_type": "code",
   "execution_count": null,
   "id": "0459e5a3",
   "metadata": {},
   "outputs": [],
   "source": [
    "df.rename(columns={'Watchtime':'Runtime','Description':'Summary','Gross collection':'Returns'})"
   ]
  },
  {
   "cell_type": "code",
   "execution_count": null,
   "id": "15dccebe",
   "metadata": {},
   "outputs": [],
   "source": [
    "df.isnull()"
   ]
  },
  {
   "cell_type": "code",
   "execution_count": null,
   "id": "12f14d4e",
   "metadata": {},
   "outputs": [],
   "source": [
    "df.notnull()"
   ]
  },
  {
   "cell_type": "code",
   "execution_count": null,
   "id": "004ab67b",
   "metadata": {},
   "outputs": [],
   "source": [
    "df.dropna()"
   ]
  },
  {
   "cell_type": "code",
   "execution_count": null,
   "id": "d83a70ec",
   "metadata": {},
   "outputs": [],
   "source": [
    "df.fillna('none')"
   ]
  },
  {
   "cell_type": "code",
   "execution_count": null,
   "id": "de306942",
   "metadata": {},
   "outputs": [],
   "source": [
    "df=df.replace('----','0000')"
   ]
  },
  {
   "cell_type": "code",
   "execution_count": null,
   "id": "4e898d53",
   "metadata": {},
   "outputs": [],
   "source": [
    "df.info()"
   ]
  },
  {
   "cell_type": "code",
   "execution_count": null,
   "id": "d1ed1c41",
   "metadata": {},
   "outputs": [],
   "source": []
  },
  {
   "cell_type": "code",
   "execution_count": null,
   "id": "567f7403",
   "metadata": {},
   "outputs": [],
   "source": []
  },
  {
   "cell_type": "code",
   "execution_count": null,
   "id": "2b0b62aa",
   "metadata": {},
   "outputs": [],
   "source": [
    "df['Votes']=df['Votes'].astype('int64')"
   ]
  },
  {
   "cell_type": "code",
   "execution_count": null,
   "id": "4deb5340",
   "metadata": {},
   "outputs": [],
   "source": [
    "df.info()"
   ]
  },
  {
   "cell_type": "code",
   "execution_count": 39,
   "id": "16b81f12",
   "metadata": {},
   "outputs": [
    {
     "data": {
      "text/plain": [
       "77.0"
      ]
     },
     "execution_count": 39,
     "metadata": {},
     "output_type": "execute_result"
    }
   ],
   "source": [
    "df['Metascore'].median()"
   ]
  },
  {
   "cell_type": "code",
   "execution_count": 36,
   "id": "6b36ac74",
   "metadata": {},
   "outputs": [
    {
     "data": {
      "text/html": [
       "<div>\n",
       "<style scoped>\n",
       "    .dataframe tbody tr th:only-of-type {\n",
       "        vertical-align: middle;\n",
       "    }\n",
       "\n",
       "    .dataframe tbody tr th {\n",
       "        vertical-align: top;\n",
       "    }\n",
       "\n",
       "    .dataframe thead th {\n",
       "        text-align: right;\n",
       "    }\n",
       "</style>\n",
       "<table border=\"1\" class=\"dataframe\">\n",
       "  <thead>\n",
       "    <tr style=\"text-align: right;\">\n",
       "      <th></th>\n",
       "      <th>SerialNo</th>\n",
       "      <th>Movie Name</th>\n",
       "      <th>Year of release</th>\n",
       "      <th>Run time</th>\n",
       "      <th>Movie Rating</th>\n",
       "      <th>Metascore</th>\n",
       "      <th>Votes</th>\n",
       "      <th>Gross collection in millions</th>\n",
       "      <th>Description</th>\n",
       "      <th>Director</th>\n",
       "      <th>Star</th>\n",
       "    </tr>\n",
       "  </thead>\n",
       "  <tbody>\n",
       "    <tr>\n",
       "      <th>0</th>\n",
       "      <td>1</td>\n",
       "      <td>The Shawshank Redemption</td>\n",
       "      <td>1994</td>\n",
       "      <td>142</td>\n",
       "      <td>9.3</td>\n",
       "      <td>81.00</td>\n",
       "      <td>2646498</td>\n",
       "      <td>28.34000</td>\n",
       "      <td>Two imprisoned men bond over a number of years...</td>\n",
       "      <td>Frank Darabont</td>\n",
       "      <td>['Tim Robbins, Morgan Freeman, Bob Gunton, Wil...</td>\n",
       "    </tr>\n",
       "    <tr>\n",
       "      <th>2</th>\n",
       "      <td>3</td>\n",
       "      <td>The Dark Knight</td>\n",
       "      <td>2008</td>\n",
       "      <td>152</td>\n",
       "      <td>9.0</td>\n",
       "      <td>84.00</td>\n",
       "      <td>2618406</td>\n",
       "      <td>534.86000</td>\n",
       "      <td>When the menace known as the Joker wreaks havo...</td>\n",
       "      <td>Christopher Nolan</td>\n",
       "      <td>['Christian Bale, Heath Ledger, Aaron Eckhart,...</td>\n",
       "    </tr>\n",
       "    <tr>\n",
       "      <th>7</th>\n",
       "      <td>8</td>\n",
       "      <td>Rocketry: The Nambi Effect</td>\n",
       "      <td>2022</td>\n",
       "      <td>157</td>\n",
       "      <td>8.9</td>\n",
       "      <td>62.28</td>\n",
       "      <td>46123</td>\n",
       "      <td>75.62455</td>\n",
       "      <td>Based on the life of Indian Space Research Org...</td>\n",
       "      <td>Madhavan</td>\n",
       "      <td>['Madhavan, Simran, Rajit Kapoor, Ravi Raghave...</td>\n",
       "    </tr>\n",
       "    <tr>\n",
       "      <th>8</th>\n",
       "      <td>9</td>\n",
       "      <td>Jai Bhim</td>\n",
       "      <td>2021</td>\n",
       "      <td>164</td>\n",
       "      <td>8.9</td>\n",
       "      <td>62.28</td>\n",
       "      <td>198740</td>\n",
       "      <td>239.00000</td>\n",
       "      <td>When a tribal man is arrested for a case of al...</td>\n",
       "      <td>T.J. Gnanavel</td>\n",
       "      <td>['Suriya, Lijo Mol Jose, Manikandan K., Rajish...</td>\n",
       "    </tr>\n",
       "    <tr>\n",
       "      <th>10</th>\n",
       "      <td>11</td>\n",
       "      <td>Inception</td>\n",
       "      <td>2010</td>\n",
       "      <td>148</td>\n",
       "      <td>8.8</td>\n",
       "      <td>74.00</td>\n",
       "      <td>2320632</td>\n",
       "      <td>292.58000</td>\n",
       "      <td>A thief who steals corporate secrets through t...</td>\n",
       "      <td>Christopher Nolan</td>\n",
       "      <td>['Leonardo DiCaprio, Joseph Gordon-Levitt, Ell...</td>\n",
       "    </tr>\n",
       "    <tr>\n",
       "      <th>...</th>\n",
       "      <td>...</td>\n",
       "      <td>...</td>\n",
       "      <td>...</td>\n",
       "      <td>...</td>\n",
       "      <td>...</td>\n",
       "      <td>...</td>\n",
       "      <td>...</td>\n",
       "      <td>...</td>\n",
       "      <td>...</td>\n",
       "      <td>...</td>\n",
       "      <td>...</td>\n",
       "    </tr>\n",
       "    <tr>\n",
       "      <th>395</th>\n",
       "      <td>396</td>\n",
       "      <td>Pâfekuto burû</td>\n",
       "      <td>1997</td>\n",
       "      <td>81</td>\n",
       "      <td>8.0</td>\n",
       "      <td>67.00</td>\n",
       "      <td>75967</td>\n",
       "      <td>0.78000</td>\n",
       "      <td>A pop singer gives up her career to become an ...</td>\n",
       "      <td>Satoshi Kon</td>\n",
       "      <td>['Junko Iwao, Rica Matsumoto, Shinpachi Tsuji,...</td>\n",
       "    </tr>\n",
       "    <tr>\n",
       "      <th>396</th>\n",
       "      <td>397</td>\n",
       "      <td>Central do Brasil</td>\n",
       "      <td>1998</td>\n",
       "      <td>110</td>\n",
       "      <td>8.0</td>\n",
       "      <td>80.00</td>\n",
       "      <td>39781</td>\n",
       "      <td>5.60000</td>\n",
       "      <td>The emotive journey of a former schoolteacher ...</td>\n",
       "      <td>Walter Salles</td>\n",
       "      <td>['Fernanda Montenegro, Vinícius de Oliveira, M...</td>\n",
       "    </tr>\n",
       "    <tr>\n",
       "      <th>397</th>\n",
       "      <td>398</td>\n",
       "      <td>La leggenda del pianista sull'oceano</td>\n",
       "      <td>1998</td>\n",
       "      <td>169</td>\n",
       "      <td>8.0</td>\n",
       "      <td>58.00</td>\n",
       "      <td>64506</td>\n",
       "      <td>0.26000</td>\n",
       "      <td>A baby boy, discovered in 1900 on an ocean lin...</td>\n",
       "      <td>Giuseppe Tornatore</td>\n",
       "      <td>['Tim Roth, Pruitt Taylor Vince, Mélanie Thier...</td>\n",
       "    </tr>\n",
       "    <tr>\n",
       "      <th>398</th>\n",
       "      <td>399</td>\n",
       "      <td>Crna macka, beli macor</td>\n",
       "      <td>1998</td>\n",
       "      <td>127</td>\n",
       "      <td>8.0</td>\n",
       "      <td>73.00</td>\n",
       "      <td>53984</td>\n",
       "      <td>0.35000</td>\n",
       "      <td>Matko and his son Zare live on the banks of th...</td>\n",
       "      <td>Emir Kusturica</td>\n",
       "      <td>[\"Bajram Severdzan, Srdjan 'Zika' Todorovic, B...</td>\n",
       "    </tr>\n",
       "    <tr>\n",
       "      <th>399</th>\n",
       "      <td>400</td>\n",
       "      <td>Sling Blade</td>\n",
       "      <td>1996</td>\n",
       "      <td>135</td>\n",
       "      <td>8.0</td>\n",
       "      <td>84.00</td>\n",
       "      <td>94181</td>\n",
       "      <td>24.48000</td>\n",
       "      <td>Karl Childers, a simple man hospitalized since...</td>\n",
       "      <td>Billy Bob Thornton</td>\n",
       "      <td>['Billy Bob Thornton, Dwight Yoakam, J.T. Wals...</td>\n",
       "    </tr>\n",
       "  </tbody>\n",
       "</table>\n",
       "<p>317 rows × 11 columns</p>\n",
       "</div>"
      ],
      "text/plain": [
       "     SerialNo                            Movie Name  Year of release  \\\n",
       "0           1              The Shawshank Redemption             1994   \n",
       "2           3                       The Dark Knight             2008   \n",
       "7           8            Rocketry: The Nambi Effect             2022   \n",
       "8           9                              Jai Bhim             2021   \n",
       "10         11                             Inception             2010   \n",
       "..        ...                                   ...              ...   \n",
       "395       396                         Pâfekuto burû             1997   \n",
       "396       397                     Central do Brasil             1998   \n",
       "397       398  La leggenda del pianista sull'oceano             1998   \n",
       "398       399                Crna macka, beli macor             1998   \n",
       "399       400                           Sling Blade             1996   \n",
       "\n",
       "     Run time  Movie Rating  Metascore    Votes  Gross collection in millions  \\\n",
       "0         142           9.3      81.00  2646498                      28.34000   \n",
       "2         152           9.0      84.00  2618406                     534.86000   \n",
       "7         157           8.9      62.28    46123                      75.62455   \n",
       "8         164           8.9      62.28   198740                     239.00000   \n",
       "10        148           8.8      74.00  2320632                     292.58000   \n",
       "..        ...           ...        ...      ...                           ...   \n",
       "395        81           8.0      67.00    75967                       0.78000   \n",
       "396       110           8.0      80.00    39781                       5.60000   \n",
       "397       169           8.0      58.00    64506                       0.26000   \n",
       "398       127           8.0      73.00    53984                       0.35000   \n",
       "399       135           8.0      84.00    94181                      24.48000   \n",
       "\n",
       "                                           Description            Director  \\\n",
       "0    Two imprisoned men bond over a number of years...      Frank Darabont   \n",
       "2    When the menace known as the Joker wreaks havo...   Christopher Nolan   \n",
       "7    Based on the life of Indian Space Research Org...            Madhavan   \n",
       "8    When a tribal man is arrested for a case of al...       T.J. Gnanavel   \n",
       "10   A thief who steals corporate secrets through t...   Christopher Nolan   \n",
       "..                                                 ...                 ...   \n",
       "395  A pop singer gives up her career to become an ...         Satoshi Kon   \n",
       "396  The emotive journey of a former schoolteacher ...       Walter Salles   \n",
       "397  A baby boy, discovered in 1900 on an ocean lin...  Giuseppe Tornatore   \n",
       "398  Matko and his son Zare live on the banks of th...      Emir Kusturica   \n",
       "399  Karl Childers, a simple man hospitalized since...  Billy Bob Thornton   \n",
       "\n",
       "                                                  Star  \n",
       "0    ['Tim Robbins, Morgan Freeman, Bob Gunton, Wil...  \n",
       "2    ['Christian Bale, Heath Ledger, Aaron Eckhart,...  \n",
       "7    ['Madhavan, Simran, Rajit Kapoor, Ravi Raghave...  \n",
       "8    ['Suriya, Lijo Mol Jose, Manikandan K., Rajish...  \n",
       "10   ['Leonardo DiCaprio, Joseph Gordon-Levitt, Ell...  \n",
       "..                                                 ...  \n",
       "395  ['Junko Iwao, Rica Matsumoto, Shinpachi Tsuji,...  \n",
       "396  ['Fernanda Montenegro, Vinícius de Oliveira, M...  \n",
       "397  ['Tim Roth, Pruitt Taylor Vince, Mélanie Thier...  \n",
       "398  [\"Bajram Severdzan, Srdjan 'Zika' Todorovic, B...  \n",
       "399  ['Billy Bob Thornton, Dwight Yoakam, J.T. Wals...  \n",
       "\n",
       "[317 rows x 11 columns]"
      ]
     },
     "execution_count": 36,
     "metadata": {},
     "output_type": "execute_result"
    }
   ],
   "source": [
    "df[df['Metascore']<90]"
   ]
  },
  {
   "cell_type": "code",
   "execution_count": null,
   "id": "5a840a5d",
   "metadata": {},
   "outputs": [],
   "source": []
  },
  {
   "cell_type": "code",
   "execution_count": null,
   "id": "baaa6441",
   "metadata": {},
   "outputs": [],
   "source": []
  }
 ],
 "metadata": {
  "kernelspec": {
   "display_name": "Python 3 (ipykernel)",
   "language": "python",
   "name": "python3"
  },
  "language_info": {
   "codemirror_mode": {
    "name": "ipython",
    "version": 3
   },
   "file_extension": ".py",
   "mimetype": "text/x-python",
   "name": "python",
   "nbconvert_exporter": "python",
   "pygments_lexer": "ipython3",
   "version": "3.9.12"
  }
 },
 "nbformat": 4,
 "nbformat_minor": 5
}
