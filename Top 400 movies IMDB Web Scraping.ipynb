{
 "cells": [
  {
   "cell_type": "markdown",
   "id": "24563ed7",
   "metadata": {},
   "source": [
    "# Web Scraping project of IMDB top 1000 movies "
   ]
  },
  {
   "cell_type": "markdown",
   "id": "a9e04799",
   "metadata": {},
   "source": [
    "### Importing Required Libraries"
   ]
  },
  {
   "cell_type": "code",
   "execution_count": 1,
   "id": "cdef62ef",
   "metadata": {},
   "outputs": [],
   "source": [
    "import pandas as pd   #to create dataframe\n",
    "import requests       #to send the request to the URL\n",
    "from bs4 import BeautifulSoup #to get the content in the form of HTML\n",
    "import numpy as np  # to count the values"
   ]
  },
  {
   "cell_type": "markdown",
   "id": "52074ee2",
   "metadata": {},
   "source": [
    "### Declaring the Headers"
   ]
  },
  {
   "cell_type": "code",
   "execution_count": 2,
   "id": "e3e879d6",
   "metadata": {},
   "outputs": [],
   "source": [
    "headers = {\"Accept-Language\": \"en-US,en;q=0.5\"}"
   ]
  },
  {
   "cell_type": "markdown",
   "id": "89e5c438",
   "metadata": {},
   "source": [
    "### Assigning the URL with variable name url"
   ]
  },
  {
   "cell_type": "code",
   "execution_count": 3,
   "id": "8e6cfce9",
   "metadata": {},
   "outputs": [],
   "source": [
    "url = 'https://www.imdb.com/search/title/?groups=top_1000&sort=user_rating,desc&count=100&start=401&ref_=adv_nxt'"
   ]
  },
  {
   "cell_type": "markdown",
   "id": "960d3e2e",
   "metadata": {},
   "source": [
    "### Because this technique only works on information on a single page and we require numerous sites scraped, this entire procedure needs be run multiple times before merging into one."
   ]
  },
  {
   "cell_type": "markdown",
   "id": "12b52ee5",
   "metadata": {},
   "source": [
    "### links to the multiple pages are provided below "
   ]
  },
  {
   "cell_type": "markdown",
   "id": "954c0783",
   "metadata": {},
   "source": [
    "\n",
    "1-100\n",
    "https://www.imdb.com/search/title/?count=100&groups=top_1000&sort=user_rating\n",
    "\n",
    "101-200\n",
    "https://www.imdb.com/search/title/?groups=top_1000&sort=user_rating,desc&count=100&start=101&ref_=adv_nxt\n",
    "\n",
    "201-300\n",
    "https://www.imdb.com/search/title/?groups=top_1000&sort=user_rating,desc&count=100&start=201&ref_=adv_nxt\n",
    "\n",
    "301-400\n",
    "https://www.imdb.com/search/title/?groups=top_1000&sort=user_rating,desc&count=100&start=301&ref_=adv_nxt\n",
    "\n",
    "401-500\n",
    "https://www.imdb.com/search/title/?groups=top_1000&sort=user_rating,desc&count=100&start=401&ref_=adv_nxt"
   ]
  },
  {
   "cell_type": "code",
   "execution_count": 4,
   "id": "77dc409a",
   "metadata": {},
   "outputs": [],
   "source": [
    "#request allow you to send HTTP request\n",
    "source = requests.get(url)\n",
    "soup = BeautifulSoup(source.content, 'html.parser')"
   ]
  },
  {
   "cell_type": "markdown",
   "id": "d0b744bf",
   "metadata": {},
   "source": [
    "### Creating an empty lists , so that we can append the values later "
   ]
  },
  {
   "cell_type": "code",
   "execution_count": 5,
   "id": "80b9e830",
   "metadata": {},
   "outputs": [],
   "source": [
    "movie_name = []\n",
    "year = []\n",
    "time = []\n",
    "rating = []\n",
    "metascore = []\n",
    "votes = []\n",
    "gross = []\n",
    "description = []\n",
    "director = []\n",
    "stars = []"
   ]
  },
  {
   "cell_type": "markdown",
   "id": "b71996d7",
   "metadata": {},
   "source": [
    "### Storing the meaningfull required data in the variable"
   ]
  },
  {
   "cell_type": "code",
   "execution_count": 6,
   "id": "e07ce4cd",
   "metadata": {},
   "outputs": [],
   "source": [
    "movie_data = soup.findAll('div', attrs= {'class': 'lister-item mode-advanced'})"
   ]
  },
  {
   "cell_type": "markdown",
   "id": "a156fbcc",
   "metadata": {},
   "source": [
    "### Storing movie names in to variable \n"
   ]
  },
  {
   "cell_type": "code",
   "execution_count": 7,
   "id": "17002758",
   "metadata": {},
   "outputs": [
    {
     "name": "stdout",
     "output_type": "stream",
     "text": [
      "['Secrets & Lies', 'Twelve Monkeys', 'Dilwale Dulhania Le Jayenge', 'Chung Hing sam lam', 'Andaz Apna Apna', 'Scent of a Woman', 'Aladdin', 'JFK', 'Beauty and the Beast', 'Dances with Wolves', 'Rain Man']\n"
     ]
    }
   ],
   "source": [
    "for v in movie_data:\n",
    "    name = v.h3.a.text\n",
    "    movie_name.append(name)\n",
    "print(movie_name[:11])"
   ]
  },
  {
   "cell_type": "markdown",
   "id": "272412be",
   "metadata": {},
   "source": [
    "### Storing Release year of the movie into variable year"
   ]
  },
  {
   "cell_type": "code",
   "execution_count": 8,
   "id": "154f186c",
   "metadata": {},
   "outputs": [],
   "source": [
    "for v in movie_data:\n",
    "    year_of_release = v.h3.find('span', class_ = 'lister-item-year text-muted unbold').text.replace('(', '').replace(')', '')\n",
    "    year.append(year_of_release)"
   ]
  },
  {
   "cell_type": "markdown",
   "id": "0b91f5bd",
   "metadata": {},
   "source": [
    "### Storing the Runtime of Movie into a Variable"
   ]
  },
  {
   "cell_type": "code",
   "execution_count": 9,
   "id": "58b3d095",
   "metadata": {},
   "outputs": [],
   "source": [
    "for v in movie_data:\n",
    "    runtime = v.p.find('span', class_ = 'runtime').text.replace(' min', '')\n",
    "    #removing 'min' using replace method \n",
    "    time.append(runtime)#appending time extarcted data into empty list"
   ]
  },
  {
   "cell_type": "markdown",
   "id": "59a012a5",
   "metadata": {},
   "source": [
    "### Storing the rating of the movie into vaiable "
   ]
  },
  {
   "cell_type": "code",
   "execution_count": 10,
   "id": "4806497d",
   "metadata": {},
   "outputs": [],
   "source": [
    "for v in movie_data:\n",
    "    rate = v.find('div', class_ = 'inline-block ratings-imdb-rating').text.replace('\\n', '')\n",
    "    rating.append(rate)\n",
    "    "
   ]
  },
  {
   "cell_type": "markdown",
   "id": "23aa508c",
   "metadata": {},
   "source": [
    "### Storing the votes and gross into a Variable"
   ]
  },
  {
   "cell_type": "code",
   "execution_count": 11,
   "id": "7385b7ef",
   "metadata": {},
   "outputs": [],
   "source": [
    "for v in movie_data:\n",
    "    meta  = v.find('span', class_ = 'metascore').text.replace(' ', '') if v.find('span', class_ = 'metascore') else '000'\n",
    "    metascore.append(meta)\n",
    "    #since, gross and votes have same attributes, that's why we had created a common variable and then used indexing\n",
    "    "
   ]
  },
  {
   "cell_type": "markdown",
   "id": "481da677",
   "metadata": {},
   "source": [
    "### Storing the collections into a variable "
   ]
  },
  {
   "cell_type": "code",
   "execution_count": 12,
   "id": "4903236f",
   "metadata": {},
   "outputs": [],
   "source": [
    "for v in movie_data:\n",
    "    value = v.find_all('span', attrs = {'name': 'nv'})\n",
    "    \n",
    "    vote = value[0].text.replace(',','')\n",
    "    votes.append(vote)\n",
    "    \n",
    "    grosses = value[1].text.split('$')[-1].split('M')[0] if len(value) >1 else '000'\n",
    "    gross.append(grosses)"
   ]
  },
  {
   "cell_type": "markdown",
   "id": "19b8b917",
   "metadata": {},
   "source": [
    "###  Storing the Description of the movie into a Variable"
   ]
  },
  {
   "cell_type": "code",
   "execution_count": 13,
   "id": "d276a22f",
   "metadata": {},
   "outputs": [],
   "source": [
    "for v in movie_data:\n",
    "    describe = v.find_all('p', class_ = 'text-muted')\n",
    "    description_ = describe[1].text.replace('\\n', '') if len(describe) >1 else '*****'\n",
    "    description.append(description_)"
   ]
  },
  {
   "cell_type": "markdown",
   "id": "9e3b513b",
   "metadata": {},
   "source": [
    "### Storing the Directors and Cast into two separate Variables "
   ]
  },
  {
   "cell_type": "code",
   "execution_count": 14,
   "id": "f8fb5fab",
   "metadata": {},
   "outputs": [],
   "source": [
    "for v in movie_data:\n",
    "    cast = v.find(\"p\", class_ = '')\n",
    "    cast = cast.text.replace('\\n', '').split('|')\n",
    "    cast = [x.strip() for x in cast]\n",
    "    cast = [cast[i].replace(j, \"\") for i,j in enumerate([\"director:\", \"stars:\"])]\n",
    "    director.append(cast[0].split(':')[-1])\n",
    "    stars.append([cast[1].split(':')[-1]])"
   ]
  },
  {
   "cell_type": "markdown",
   "id": "fce4851f",
   "metadata": {},
   "source": [
    "## Creating a Dataframe "
   ]
  },
  {
   "cell_type": "code",
   "execution_count": 15,
   "id": "7b0d8dca",
   "metadata": {},
   "outputs": [],
   "source": [
    "df = pd.DataFrame({'Name of movie': movie_name, 'Year of release': year, 'Watchtime': time, 'Movie Rating': rating, 'Metascore': metascore, 'Votes': votes, 'Gross collection in millions': gross, 'Description': description, \"Director\": director, 'Star': stars},index=range(401,501))"
   ]
  },
  {
   "cell_type": "markdown",
   "id": "6e16c0da",
   "metadata": {},
   "source": [
    "### Converting Dataframe into a desired format i,e. Csv or Xlsx"
   ]
  },
  {
   "cell_type": "code",
   "execution_count": 16,
   "id": "a5241f8c",
   "metadata": {},
   "outputs": [],
   "source": [
    "#df.to_excel(\"100.xlsx\")\n",
    "#df.to_excel(\"200.xlsx\")\n",
    "#df.to_excel(\"300.xlsx\")\n",
    "#df.to_excel(\"400.xlsx\")"
   ]
  },
  {
   "cell_type": "markdown",
   "id": "fd6e7261",
   "metadata": {},
   "source": [
    "### Reading the data using pandas read method "
   ]
  },
  {
   "cell_type": "code",
   "execution_count": 17,
   "id": "16d9ff69",
   "metadata": {},
   "outputs": [],
   "source": [
    "df1=pd.read_excel('100.xlsx')\n",
    "df2=pd.read_excel('200.xlsx')\n",
    "df3=pd.read_excel('300.xlsx')\n",
    "df4=pd.read_excel('400.xlsx')"
   ]
  },
  {
   "cell_type": "markdown",
   "id": "25b2dac9",
   "metadata": {},
   "source": [
    "### Combining the scraped files in to one using concatenate method"
   ]
  },
  {
   "cell_type": "code",
   "execution_count": 18,
   "id": "3bd53269",
   "metadata": {},
   "outputs": [],
   "source": [
    "todo=[df1,df2,df3,df4]"
   ]
  },
  {
   "cell_type": "code",
   "execution_count": 19,
   "id": "ceb5e20d",
   "metadata": {},
   "outputs": [],
   "source": [
    "final=pd.concat(todo,ignore_index=True)"
   ]
  },
  {
   "cell_type": "markdown",
   "id": "9eca50d0",
   "metadata": {},
   "source": [
    "### Adding Slno column to the DF"
   ]
  },
  {
   "cell_type": "code",
   "execution_count": 20,
   "id": "c8583164",
   "metadata": {},
   "outputs": [],
   "source": [
    "final.insert(0, \"SLNO\",range(1,401), True)"
   ]
  },
  {
   "cell_type": "code",
   "execution_count": 21,
   "id": "2a9fdce1",
   "metadata": {},
   "outputs": [
    {
     "data": {
      "text/html": [
       "<div>\n",
       "<style scoped>\n",
       "    .dataframe tbody tr th:only-of-type {\n",
       "        vertical-align: middle;\n",
       "    }\n",
       "\n",
       "    .dataframe tbody tr th {\n",
       "        vertical-align: top;\n",
       "    }\n",
       "\n",
       "    .dataframe thead th {\n",
       "        text-align: right;\n",
       "    }\n",
       "</style>\n",
       "<table border=\"1\" class=\"dataframe\">\n",
       "  <thead>\n",
       "    <tr style=\"text-align: right;\">\n",
       "      <th></th>\n",
       "      <th>SLNO</th>\n",
       "      <th>Unnamed: 0</th>\n",
       "      <th>Movie Name</th>\n",
       "      <th>Year of release</th>\n",
       "      <th>Run time</th>\n",
       "      <th>Movie Rating</th>\n",
       "      <th>Metascore</th>\n",
       "      <th>Votes</th>\n",
       "      <th>Gross collection in millions</th>\n",
       "      <th>Description</th>\n",
       "      <th>Director</th>\n",
       "      <th>Star</th>\n",
       "    </tr>\n",
       "  </thead>\n",
       "  <tbody>\n",
       "    <tr>\n",
       "      <th>0</th>\n",
       "      <td>1</td>\n",
       "      <td>0</td>\n",
       "      <td>The Shawshank Redemption</td>\n",
       "      <td>1994</td>\n",
       "      <td>142</td>\n",
       "      <td>9.3</td>\n",
       "      <td>81</td>\n",
       "      <td>2646498</td>\n",
       "      <td>28.34</td>\n",
       "      <td>Two imprisoned men bond over a number of years...</td>\n",
       "      <td>Frank Darabont</td>\n",
       "      <td>['Tim Robbins, Morgan Freeman, Bob Gunton, Wil...</td>\n",
       "    </tr>\n",
       "    <tr>\n",
       "      <th>1</th>\n",
       "      <td>2</td>\n",
       "      <td>1</td>\n",
       "      <td>The Godfather</td>\n",
       "      <td>1972</td>\n",
       "      <td>175</td>\n",
       "      <td>9.2</td>\n",
       "      <td>100</td>\n",
       "      <td>1834453</td>\n",
       "      <td>134.97</td>\n",
       "      <td>The aging patriarch of an organized crime dyna...</td>\n",
       "      <td>Francis Ford Coppola</td>\n",
       "      <td>['Marlon Brando, Al Pacino, James Caan, Diane ...</td>\n",
       "    </tr>\n",
       "    <tr>\n",
       "      <th>2</th>\n",
       "      <td>3</td>\n",
       "      <td>2</td>\n",
       "      <td>The Dark Knight</td>\n",
       "      <td>2008</td>\n",
       "      <td>152</td>\n",
       "      <td>9.0</td>\n",
       "      <td>84</td>\n",
       "      <td>2618406</td>\n",
       "      <td>534.86</td>\n",
       "      <td>When the menace known as the Joker wreaks havo...</td>\n",
       "      <td>Christopher Nolan</td>\n",
       "      <td>['Christian Bale, Heath Ledger, Aaron Eckhart,...</td>\n",
       "    </tr>\n",
       "    <tr>\n",
       "      <th>3</th>\n",
       "      <td>4</td>\n",
       "      <td>3</td>\n",
       "      <td>The Lord of the Rings: The Return of the King</td>\n",
       "      <td>2003</td>\n",
       "      <td>201</td>\n",
       "      <td>9.0</td>\n",
       "      <td>94</td>\n",
       "      <td>1822452</td>\n",
       "      <td>377.85</td>\n",
       "      <td>Gandalf and Aragorn lead the World of Men agai...</td>\n",
       "      <td>Peter Jackson</td>\n",
       "      <td>['Elijah Wood, Viggo Mortensen, Ian McKellen, ...</td>\n",
       "    </tr>\n",
       "    <tr>\n",
       "      <th>4</th>\n",
       "      <td>5</td>\n",
       "      <td>4</td>\n",
       "      <td>Schindler's List</td>\n",
       "      <td>1993</td>\n",
       "      <td>195</td>\n",
       "      <td>9.0</td>\n",
       "      <td>94</td>\n",
       "      <td>1341386</td>\n",
       "      <td>96.90</td>\n",
       "      <td>In German-occupied Poland during World War II,...</td>\n",
       "      <td>Steven Spielberg</td>\n",
       "      <td>['Liam Neeson, Ralph Fiennes, Ben Kingsley, Ca...</td>\n",
       "    </tr>\n",
       "    <tr>\n",
       "      <th>...</th>\n",
       "      <td>...</td>\n",
       "      <td>...</td>\n",
       "      <td>...</td>\n",
       "      <td>...</td>\n",
       "      <td>...</td>\n",
       "      <td>...</td>\n",
       "      <td>...</td>\n",
       "      <td>...</td>\n",
       "      <td>...</td>\n",
       "      <td>...</td>\n",
       "      <td>...</td>\n",
       "      <td>...</td>\n",
       "    </tr>\n",
       "    <tr>\n",
       "      <th>395</th>\n",
       "      <td>396</td>\n",
       "      <td>95</td>\n",
       "      <td>Pâfekuto burû</td>\n",
       "      <td>1997</td>\n",
       "      <td>81</td>\n",
       "      <td>8.0</td>\n",
       "      <td>67</td>\n",
       "      <td>75967</td>\n",
       "      <td>0.78</td>\n",
       "      <td>A pop singer gives up her career to become an ...</td>\n",
       "      <td>Satoshi Kon</td>\n",
       "      <td>['Junko Iwao, Rica Matsumoto, Shinpachi Tsuji,...</td>\n",
       "    </tr>\n",
       "    <tr>\n",
       "      <th>396</th>\n",
       "      <td>397</td>\n",
       "      <td>96</td>\n",
       "      <td>Central do Brasil</td>\n",
       "      <td>1998</td>\n",
       "      <td>110</td>\n",
       "      <td>8.0</td>\n",
       "      <td>80</td>\n",
       "      <td>39781</td>\n",
       "      <td>5.60</td>\n",
       "      <td>The emotive journey of a former schoolteacher ...</td>\n",
       "      <td>Walter Salles</td>\n",
       "      <td>['Fernanda Montenegro, Vinícius de Oliveira, M...</td>\n",
       "    </tr>\n",
       "    <tr>\n",
       "      <th>397</th>\n",
       "      <td>398</td>\n",
       "      <td>97</td>\n",
       "      <td>La leggenda del pianista sull'oceano</td>\n",
       "      <td>1998</td>\n",
       "      <td>169</td>\n",
       "      <td>8.0</td>\n",
       "      <td>58</td>\n",
       "      <td>64506</td>\n",
       "      <td>0.26</td>\n",
       "      <td>A baby boy, discovered in 1900 on an ocean lin...</td>\n",
       "      <td>Giuseppe Tornatore</td>\n",
       "      <td>['Tim Roth, Pruitt Taylor Vince, Mélanie Thier...</td>\n",
       "    </tr>\n",
       "    <tr>\n",
       "      <th>398</th>\n",
       "      <td>399</td>\n",
       "      <td>98</td>\n",
       "      <td>Crna macka, beli macor</td>\n",
       "      <td>1998</td>\n",
       "      <td>127</td>\n",
       "      <td>8.0</td>\n",
       "      <td>73</td>\n",
       "      <td>53984</td>\n",
       "      <td>0.35</td>\n",
       "      <td>Matko and his son Zare live on the banks of th...</td>\n",
       "      <td>Emir Kusturica</td>\n",
       "      <td>[\"Bajram Severdzan, Srdjan 'Zika' Todorovic, B...</td>\n",
       "    </tr>\n",
       "    <tr>\n",
       "      <th>399</th>\n",
       "      <td>400</td>\n",
       "      <td>99</td>\n",
       "      <td>Sling Blade</td>\n",
       "      <td>1996</td>\n",
       "      <td>135</td>\n",
       "      <td>8.0</td>\n",
       "      <td>84</td>\n",
       "      <td>94181</td>\n",
       "      <td>24.48</td>\n",
       "      <td>Karl Childers, a simple man hospitalized since...</td>\n",
       "      <td>Billy Bob Thornton</td>\n",
       "      <td>['Billy Bob Thornton, Dwight Yoakam, J.T. Wals...</td>\n",
       "    </tr>\n",
       "  </tbody>\n",
       "</table>\n",
       "<p>400 rows × 12 columns</p>\n",
       "</div>"
      ],
      "text/plain": [
       "     SLNO  Unnamed: 0                                     Movie Name  \\\n",
       "0       1           0                       The Shawshank Redemption   \n",
       "1       2           1                                  The Godfather   \n",
       "2       3           2                                The Dark Knight   \n",
       "3       4           3  The Lord of the Rings: The Return of the King   \n",
       "4       5           4                               Schindler's List   \n",
       "..    ...         ...                                            ...   \n",
       "395   396          95                                  Pâfekuto burû   \n",
       "396   397          96                              Central do Brasil   \n",
       "397   398          97           La leggenda del pianista sull'oceano   \n",
       "398   399          98                         Crna macka, beli macor   \n",
       "399   400          99                                    Sling Blade   \n",
       "\n",
       "    Year of release  Run time  Movie Rating  Metascore    Votes  \\\n",
       "0              1994       142           9.3         81  2646498   \n",
       "1              1972       175           9.2        100  1834453   \n",
       "2              2008       152           9.0         84  2618406   \n",
       "3              2003       201           9.0         94  1822452   \n",
       "4              1993       195           9.0         94  1341386   \n",
       "..              ...       ...           ...        ...      ...   \n",
       "395            1997        81           8.0         67    75967   \n",
       "396            1998       110           8.0         80    39781   \n",
       "397            1998       169           8.0         58    64506   \n",
       "398            1998       127           8.0         73    53984   \n",
       "399            1996       135           8.0         84    94181   \n",
       "\n",
       "    Gross collection in millions  \\\n",
       "0                          28.34   \n",
       "1                         134.97   \n",
       "2                         534.86   \n",
       "3                         377.85   \n",
       "4                          96.90   \n",
       "..                           ...   \n",
       "395                         0.78   \n",
       "396                         5.60   \n",
       "397                         0.26   \n",
       "398                         0.35   \n",
       "399                        24.48   \n",
       "\n",
       "                                           Description              Director  \\\n",
       "0    Two imprisoned men bond over a number of years...        Frank Darabont   \n",
       "1    The aging patriarch of an organized crime dyna...  Francis Ford Coppola   \n",
       "2    When the menace known as the Joker wreaks havo...     Christopher Nolan   \n",
       "3    Gandalf and Aragorn lead the World of Men agai...         Peter Jackson   \n",
       "4    In German-occupied Poland during World War II,...      Steven Spielberg   \n",
       "..                                                 ...                   ...   \n",
       "395  A pop singer gives up her career to become an ...           Satoshi Kon   \n",
       "396  The emotive journey of a former schoolteacher ...         Walter Salles   \n",
       "397  A baby boy, discovered in 1900 on an ocean lin...    Giuseppe Tornatore   \n",
       "398  Matko and his son Zare live on the banks of th...        Emir Kusturica   \n",
       "399  Karl Childers, a simple man hospitalized since...    Billy Bob Thornton   \n",
       "\n",
       "                                                  Star  \n",
       "0    ['Tim Robbins, Morgan Freeman, Bob Gunton, Wil...  \n",
       "1    ['Marlon Brando, Al Pacino, James Caan, Diane ...  \n",
       "2    ['Christian Bale, Heath Ledger, Aaron Eckhart,...  \n",
       "3    ['Elijah Wood, Viggo Mortensen, Ian McKellen, ...  \n",
       "4    ['Liam Neeson, Ralph Fiennes, Ben Kingsley, Ca...  \n",
       "..                                                 ...  \n",
       "395  ['Junko Iwao, Rica Matsumoto, Shinpachi Tsuji,...  \n",
       "396  ['Fernanda Montenegro, Vinícius de Oliveira, M...  \n",
       "397  ['Tim Roth, Pruitt Taylor Vince, Mélanie Thier...  \n",
       "398  [\"Bajram Severdzan, Srdjan 'Zika' Todorovic, B...  \n",
       "399  ['Billy Bob Thornton, Dwight Yoakam, J.T. Wals...  \n",
       "\n",
       "[400 rows x 12 columns]"
      ]
     },
     "execution_count": 21,
     "metadata": {},
     "output_type": "execute_result"
    }
   ],
   "source": [
    "final"
   ]
  },
  {
   "cell_type": "markdown",
   "id": "6273436a",
   "metadata": {},
   "source": [
    "### Dropping the Unwanted column"
   ]
  },
  {
   "cell_type": "code",
   "execution_count": 22,
   "id": "0232cb08",
   "metadata": {},
   "outputs": [],
   "source": [
    "final.drop(['Unnamed: 0'], axis=1,inplace=True)"
   ]
  },
  {
   "cell_type": "code",
   "execution_count": 23,
   "id": "3f4af664",
   "metadata": {},
   "outputs": [],
   "source": [
    "final.to_excel('Imdb 400.xlsx')"
   ]
  },
  {
   "cell_type": "code",
   "execution_count": 24,
   "id": "6a5f933e",
   "metadata": {},
   "outputs": [],
   "source": [
    "final.to_csv('Imdb 400.csv')"
   ]
  },
  {
   "cell_type": "markdown",
   "id": "c516261a",
   "metadata": {},
   "source": [
    "### final is required end output and it contains the content of top 400 IMDB movies based on User ratings "
   ]
  },
  {
   "cell_type": "markdown",
   "id": "3a1c0de3",
   "metadata": {},
   "source": [
    " >>THANK YOU "
   ]
  },
  {
   "cell_type": "code",
   "execution_count": 25,
   "id": "7c9d67df",
   "metadata": {},
   "outputs": [
    {
     "data": {
      "text/html": [
       "<div>\n",
       "<style scoped>\n",
       "    .dataframe tbody tr th:only-of-type {\n",
       "        vertical-align: middle;\n",
       "    }\n",
       "\n",
       "    .dataframe tbody tr th {\n",
       "        vertical-align: top;\n",
       "    }\n",
       "\n",
       "    .dataframe thead th {\n",
       "        text-align: right;\n",
       "    }\n",
       "</style>\n",
       "<table border=\"1\" class=\"dataframe\">\n",
       "  <thead>\n",
       "    <tr style=\"text-align: right;\">\n",
       "      <th></th>\n",
       "      <th>SLNO</th>\n",
       "      <th>Movie Name</th>\n",
       "      <th>Year of release</th>\n",
       "      <th>Run time</th>\n",
       "      <th>Movie Rating</th>\n",
       "      <th>Metascore</th>\n",
       "      <th>Votes</th>\n",
       "      <th>Gross collection in millions</th>\n",
       "      <th>Description</th>\n",
       "      <th>Director</th>\n",
       "      <th>Star</th>\n",
       "    </tr>\n",
       "  </thead>\n",
       "  <tbody>\n",
       "    <tr>\n",
       "      <th>0</th>\n",
       "      <td>1</td>\n",
       "      <td>The Shawshank Redemption</td>\n",
       "      <td>1994</td>\n",
       "      <td>142</td>\n",
       "      <td>9.3</td>\n",
       "      <td>81</td>\n",
       "      <td>2646498</td>\n",
       "      <td>28.34</td>\n",
       "      <td>Two imprisoned men bond over a number of years...</td>\n",
       "      <td>Frank Darabont</td>\n",
       "      <td>['Tim Robbins, Morgan Freeman, Bob Gunton, Wil...</td>\n",
       "    </tr>\n",
       "    <tr>\n",
       "      <th>1</th>\n",
       "      <td>2</td>\n",
       "      <td>The Godfather</td>\n",
       "      <td>1972</td>\n",
       "      <td>175</td>\n",
       "      <td>9.2</td>\n",
       "      <td>100</td>\n",
       "      <td>1834453</td>\n",
       "      <td>134.97</td>\n",
       "      <td>The aging patriarch of an organized crime dyna...</td>\n",
       "      <td>Francis Ford Coppola</td>\n",
       "      <td>['Marlon Brando, Al Pacino, James Caan, Diane ...</td>\n",
       "    </tr>\n",
       "    <tr>\n",
       "      <th>2</th>\n",
       "      <td>3</td>\n",
       "      <td>The Dark Knight</td>\n",
       "      <td>2008</td>\n",
       "      <td>152</td>\n",
       "      <td>9.0</td>\n",
       "      <td>84</td>\n",
       "      <td>2618406</td>\n",
       "      <td>534.86</td>\n",
       "      <td>When the menace known as the Joker wreaks havo...</td>\n",
       "      <td>Christopher Nolan</td>\n",
       "      <td>['Christian Bale, Heath Ledger, Aaron Eckhart,...</td>\n",
       "    </tr>\n",
       "    <tr>\n",
       "      <th>3</th>\n",
       "      <td>4</td>\n",
       "      <td>The Lord of the Rings: The Return of the King</td>\n",
       "      <td>2003</td>\n",
       "      <td>201</td>\n",
       "      <td>9.0</td>\n",
       "      <td>94</td>\n",
       "      <td>1822452</td>\n",
       "      <td>377.85</td>\n",
       "      <td>Gandalf and Aragorn lead the World of Men agai...</td>\n",
       "      <td>Peter Jackson</td>\n",
       "      <td>['Elijah Wood, Viggo Mortensen, Ian McKellen, ...</td>\n",
       "    </tr>\n",
       "    <tr>\n",
       "      <th>4</th>\n",
       "      <td>5</td>\n",
       "      <td>Schindler's List</td>\n",
       "      <td>1993</td>\n",
       "      <td>195</td>\n",
       "      <td>9.0</td>\n",
       "      <td>94</td>\n",
       "      <td>1341386</td>\n",
       "      <td>96.90</td>\n",
       "      <td>In German-occupied Poland during World War II,...</td>\n",
       "      <td>Steven Spielberg</td>\n",
       "      <td>['Liam Neeson, Ralph Fiennes, Ben Kingsley, Ca...</td>\n",
       "    </tr>\n",
       "    <tr>\n",
       "      <th>...</th>\n",
       "      <td>...</td>\n",
       "      <td>...</td>\n",
       "      <td>...</td>\n",
       "      <td>...</td>\n",
       "      <td>...</td>\n",
       "      <td>...</td>\n",
       "      <td>...</td>\n",
       "      <td>...</td>\n",
       "      <td>...</td>\n",
       "      <td>...</td>\n",
       "      <td>...</td>\n",
       "    </tr>\n",
       "    <tr>\n",
       "      <th>395</th>\n",
       "      <td>396</td>\n",
       "      <td>Pâfekuto burû</td>\n",
       "      <td>1997</td>\n",
       "      <td>81</td>\n",
       "      <td>8.0</td>\n",
       "      <td>67</td>\n",
       "      <td>75967</td>\n",
       "      <td>0.78</td>\n",
       "      <td>A pop singer gives up her career to become an ...</td>\n",
       "      <td>Satoshi Kon</td>\n",
       "      <td>['Junko Iwao, Rica Matsumoto, Shinpachi Tsuji,...</td>\n",
       "    </tr>\n",
       "    <tr>\n",
       "      <th>396</th>\n",
       "      <td>397</td>\n",
       "      <td>Central do Brasil</td>\n",
       "      <td>1998</td>\n",
       "      <td>110</td>\n",
       "      <td>8.0</td>\n",
       "      <td>80</td>\n",
       "      <td>39781</td>\n",
       "      <td>5.60</td>\n",
       "      <td>The emotive journey of a former schoolteacher ...</td>\n",
       "      <td>Walter Salles</td>\n",
       "      <td>['Fernanda Montenegro, Vinícius de Oliveira, M...</td>\n",
       "    </tr>\n",
       "    <tr>\n",
       "      <th>397</th>\n",
       "      <td>398</td>\n",
       "      <td>La leggenda del pianista sull'oceano</td>\n",
       "      <td>1998</td>\n",
       "      <td>169</td>\n",
       "      <td>8.0</td>\n",
       "      <td>58</td>\n",
       "      <td>64506</td>\n",
       "      <td>0.26</td>\n",
       "      <td>A baby boy, discovered in 1900 on an ocean lin...</td>\n",
       "      <td>Giuseppe Tornatore</td>\n",
       "      <td>['Tim Roth, Pruitt Taylor Vince, Mélanie Thier...</td>\n",
       "    </tr>\n",
       "    <tr>\n",
       "      <th>398</th>\n",
       "      <td>399</td>\n",
       "      <td>Crna macka, beli macor</td>\n",
       "      <td>1998</td>\n",
       "      <td>127</td>\n",
       "      <td>8.0</td>\n",
       "      <td>73</td>\n",
       "      <td>53984</td>\n",
       "      <td>0.35</td>\n",
       "      <td>Matko and his son Zare live on the banks of th...</td>\n",
       "      <td>Emir Kusturica</td>\n",
       "      <td>[\"Bajram Severdzan, Srdjan 'Zika' Todorovic, B...</td>\n",
       "    </tr>\n",
       "    <tr>\n",
       "      <th>399</th>\n",
       "      <td>400</td>\n",
       "      <td>Sling Blade</td>\n",
       "      <td>1996</td>\n",
       "      <td>135</td>\n",
       "      <td>8.0</td>\n",
       "      <td>84</td>\n",
       "      <td>94181</td>\n",
       "      <td>24.48</td>\n",
       "      <td>Karl Childers, a simple man hospitalized since...</td>\n",
       "      <td>Billy Bob Thornton</td>\n",
       "      <td>['Billy Bob Thornton, Dwight Yoakam, J.T. Wals...</td>\n",
       "    </tr>\n",
       "  </tbody>\n",
       "</table>\n",
       "<p>400 rows × 11 columns</p>\n",
       "</div>"
      ],
      "text/plain": [
       "     SLNO                                     Movie Name Year of release  \\\n",
       "0       1                       The Shawshank Redemption            1994   \n",
       "1       2                                  The Godfather            1972   \n",
       "2       3                                The Dark Knight            2008   \n",
       "3       4  The Lord of the Rings: The Return of the King            2003   \n",
       "4       5                               Schindler's List            1993   \n",
       "..    ...                                            ...             ...   \n",
       "395   396                                  Pâfekuto burû            1997   \n",
       "396   397                              Central do Brasil            1998   \n",
       "397   398           La leggenda del pianista sull'oceano            1998   \n",
       "398   399                         Crna macka, beli macor            1998   \n",
       "399   400                                    Sling Blade            1996   \n",
       "\n",
       "     Run time  Movie Rating  Metascore    Votes Gross collection in millions  \\\n",
       "0         142           9.3         81  2646498                        28.34   \n",
       "1         175           9.2        100  1834453                       134.97   \n",
       "2         152           9.0         84  2618406                       534.86   \n",
       "3         201           9.0         94  1822452                       377.85   \n",
       "4         195           9.0         94  1341386                        96.90   \n",
       "..        ...           ...        ...      ...                          ...   \n",
       "395        81           8.0         67    75967                         0.78   \n",
       "396       110           8.0         80    39781                         5.60   \n",
       "397       169           8.0         58    64506                         0.26   \n",
       "398       127           8.0         73    53984                         0.35   \n",
       "399       135           8.0         84    94181                        24.48   \n",
       "\n",
       "                                           Description              Director  \\\n",
       "0    Two imprisoned men bond over a number of years...        Frank Darabont   \n",
       "1    The aging patriarch of an organized crime dyna...  Francis Ford Coppola   \n",
       "2    When the menace known as the Joker wreaks havo...     Christopher Nolan   \n",
       "3    Gandalf and Aragorn lead the World of Men agai...         Peter Jackson   \n",
       "4    In German-occupied Poland during World War II,...      Steven Spielberg   \n",
       "..                                                 ...                   ...   \n",
       "395  A pop singer gives up her career to become an ...           Satoshi Kon   \n",
       "396  The emotive journey of a former schoolteacher ...         Walter Salles   \n",
       "397  A baby boy, discovered in 1900 on an ocean lin...    Giuseppe Tornatore   \n",
       "398  Matko and his son Zare live on the banks of th...        Emir Kusturica   \n",
       "399  Karl Childers, a simple man hospitalized since...    Billy Bob Thornton   \n",
       "\n",
       "                                                  Star  \n",
       "0    ['Tim Robbins, Morgan Freeman, Bob Gunton, Wil...  \n",
       "1    ['Marlon Brando, Al Pacino, James Caan, Diane ...  \n",
       "2    ['Christian Bale, Heath Ledger, Aaron Eckhart,...  \n",
       "3    ['Elijah Wood, Viggo Mortensen, Ian McKellen, ...  \n",
       "4    ['Liam Neeson, Ralph Fiennes, Ben Kingsley, Ca...  \n",
       "..                                                 ...  \n",
       "395  ['Junko Iwao, Rica Matsumoto, Shinpachi Tsuji,...  \n",
       "396  ['Fernanda Montenegro, Vinícius de Oliveira, M...  \n",
       "397  ['Tim Roth, Pruitt Taylor Vince, Mélanie Thier...  \n",
       "398  [\"Bajram Severdzan, Srdjan 'Zika' Todorovic, B...  \n",
       "399  ['Billy Bob Thornton, Dwight Yoakam, J.T. Wals...  \n",
       "\n",
       "[400 rows x 11 columns]"
      ]
     },
     "execution_count": 25,
     "metadata": {},
     "output_type": "execute_result"
    }
   ],
   "source": [
    "final"
   ]
  },
  {
   "cell_type": "code",
   "execution_count": null,
   "id": "928ce91d",
   "metadata": {},
   "outputs": [],
   "source": []
  },
  {
   "cell_type": "code",
   "execution_count": null,
   "id": "9664c8c0",
   "metadata": {},
   "outputs": [],
   "source": []
  },
  {
   "cell_type": "code",
   "execution_count": null,
   "id": "495a225d",
   "metadata": {},
   "outputs": [],
   "source": []
  },
  {
   "cell_type": "code",
   "execution_count": null,
   "id": "4f8a38bd",
   "metadata": {},
   "outputs": [],
   "source": []
  },
  {
   "cell_type": "code",
   "execution_count": null,
   "id": "720b52fc",
   "metadata": {},
   "outputs": [],
   "source": []
  },
  {
   "cell_type": "code",
   "execution_count": null,
   "id": "06690460",
   "metadata": {},
   "outputs": [],
   "source": []
  }
 ],
 "metadata": {
  "kernelspec": {
   "display_name": "Python 3 (ipykernel)",
   "language": "python",
   "name": "python3"
  },
  "language_info": {
   "codemirror_mode": {
    "name": "ipython",
    "version": 3
   },
   "file_extension": ".py",
   "mimetype": "text/x-python",
   "name": "python",
   "nbconvert_exporter": "python",
   "pygments_lexer": "ipython3",
   "version": "3.9.12"
  }
 },
 "nbformat": 4,
 "nbformat_minor": 5
}
